{
 "cells": [
  {
   "cell_type": "markdown",
   "metadata": {},
   "source": [
    "## arithmatic operation in array "
   ]
  },
  {
   "cell_type": "code",
   "execution_count": 1,
   "metadata": {},
   "outputs": [],
   "source": [
    "import numpy as np"
   ]
  },
  {
   "cell_type": "code",
   "execution_count": 3,
   "metadata": {},
   "outputs": [
    {
     "data": {
      "text/plain": [
       "array([11, 12, 13, 14])"
      ]
     },
     "execution_count": 3,
     "metadata": {},
     "output_type": "execute_result"
    }
   ],
   "source": [
    "ar1= np.array([1,2,3,4]) \n",
    "\n",
    "ar1+10"
   ]
  },
  {
   "cell_type": "code",
   "execution_count": 5,
   "metadata": {},
   "outputs": [
    {
     "name": "stdout",
     "output_type": "stream",
     "text": [
      "[2 4 6 8]\n"
     ]
    }
   ],
   "source": [
    "ar1= np.array([1,2,3,4]) \n",
    "ar2= np.array([1,2,3,4]) \n",
    "\n",
    "\n",
    "arradd= ar1+ar2\n",
    "print(arradd)"
   ]
  },
  {
   "cell_type": "code",
   "execution_count": 6,
   "metadata": {},
   "outputs": [
    {
     "data": {
      "text/plain": [
       "array([-9, -8, -7, -6])"
      ]
     },
     "execution_count": 6,
     "metadata": {},
     "output_type": "execute_result"
    }
   ],
   "source": [
    "ar1= np.array([1,2,3,4]) \n",
    "\n",
    "ar1- 10"
   ]
  },
  {
   "cell_type": "code",
   "execution_count": 7,
   "metadata": {},
   "outputs": [
    {
     "name": "stdout",
     "output_type": "stream",
     "text": [
      "[0 0 0 0]\n"
     ]
    }
   ],
   "source": [
    "ar1= np.array([1,2,3,4]) \n",
    "ar2= np.array([1,2,3,4]) \n",
    "\n",
    "\n",
    "arradd= ar1 - ar2\n",
    "print(arradd)"
   ]
  },
  {
   "cell_type": "code",
   "execution_count": 8,
   "metadata": {},
   "outputs": [
    {
     "data": {
      "text/plain": [
       "array([10, 20, 30, 40])"
      ]
     },
     "execution_count": 8,
     "metadata": {},
     "output_type": "execute_result"
    }
   ],
   "source": [
    "ar1= np.array([1,2,3,4]) \n",
    "\n",
    "ar1 * 10"
   ]
  },
  {
   "cell_type": "code",
   "execution_count": 9,
   "metadata": {},
   "outputs": [
    {
     "name": "stdout",
     "output_type": "stream",
     "text": [
      "[ 1  4  9 16]\n"
     ]
    }
   ],
   "source": [
    "ar1= np.array([1,2,3,4]) \n",
    "ar2= np.array([1,2,3,4]) \n",
    "\n",
    "\n",
    "arradd= ar1 * ar2\n",
    "print(arradd)"
   ]
  },
  {
   "cell_type": "code",
   "execution_count": 10,
   "metadata": {},
   "outputs": [
    {
     "name": "stdout",
     "output_type": "stream",
     "text": [
      "[1. 1. 1. 1.]\n"
     ]
    }
   ],
   "source": [
    "ar1= np.array([1,2,3,4]) \n",
    "ar2= np.array([1,2,3,4]) \n",
    "\n",
    "\n",
    "arradd= ar1 / ar2\n",
    "print(arradd)"
   ]
  },
  {
   "cell_type": "code",
   "execution_count": 12,
   "metadata": {},
   "outputs": [
    {
     "data": {
      "text/plain": [
       "array([1, 2, 0, 1], dtype=int32)"
      ]
     },
     "execution_count": 12,
     "metadata": {},
     "output_type": "execute_result"
    }
   ],
   "source": [
    "ar1= np.array([10,20,30,40]) \n",
    "\n",
    "ar1 % 3"
   ]
  },
  {
   "cell_type": "code",
   "execution_count": 14,
   "metadata": {},
   "outputs": [
    {
     "data": {
      "text/plain": [
       "array([ 4,  9, 16, 25])"
      ]
     },
     "execution_count": 14,
     "metadata": {},
     "output_type": "execute_result"
    }
   ],
   "source": [
    "ar1= np.array([2,3,4,5]) \n",
    "\n",
    "ar1 ** 2"
   ]
  },
  {
   "cell_type": "code",
   "execution_count": 15,
   "metadata": {},
   "outputs": [
    {
     "data": {
      "text/plain": [
       "array([  8,  27,  64, 125], dtype=int32)"
      ]
     },
     "execution_count": 15,
     "metadata": {},
     "output_type": "execute_result"
    }
   ],
   "source": [
    "ar1= np.array([2,3,4,5]) \n",
    "\n",
    "ar1 ** 3"
   ]
  },
  {
   "cell_type": "code",
   "execution_count": null,
   "metadata": {},
   "outputs": [],
   "source": [
    "## by using function "
   ]
  },
  {
   "cell_type": "code",
   "execution_count": 27,
   "metadata": {},
   "outputs": [
    {
     "name": "stdout",
     "output_type": "stream",
     "text": [
      "[5 6 7 8]\n"
     ]
    }
   ],
   "source": [
    "ar1= np.array([2,3,4,5]) \n",
    "\n",
    "ar1=np.add(ar1,3)\n",
    "\n",
    "print(ar1)"
   ]
  },
  {
   "cell_type": "code",
   "execution_count": 30,
   "metadata": {},
   "outputs": [
    {
     "name": "stdout",
     "output_type": "stream",
     "text": [
      "[1 0 0 0]\n"
     ]
    }
   ],
   "source": [
    "ar1= np.array([1,3,4,5])       # a/1 \n",
    "\n",
    "ar1=np.reciprocal(ar1)\n",
    "\n",
    "print(ar1)"
   ]
  },
  {
   "cell_type": "code",
   "execution_count": 16,
   "metadata": {},
   "outputs": [
    {
     "name": "stdout",
     "output_type": "stream",
     "text": [
      "[2 4 6 8]\n"
     ]
    }
   ],
   "source": [
    "ar1= np.array([1,2,3,4]) \n",
    "ar2= np.array([1,2,3,4]) \n",
    "\n",
    "\n",
    "arradd= np.add(ar1,ar2)\n",
    "print(arradd)"
   ]
  },
  {
   "cell_type": "code",
   "execution_count": 19,
   "metadata": {},
   "outputs": [
    {
     "name": "stdout",
     "output_type": "stream",
     "text": [
      "[101 102 103 104]\n"
     ]
    }
   ],
   "source": [
    "ar1= np.array([1,2,3,4]) \n",
    "ar2= np.array([1,2,3,4]) \n",
    "\n",
    "\n",
    "arradd= np.add(ar1 , 100)\n",
    "print(arradd)"
   ]
  },
  {
   "cell_type": "code",
   "execution_count": 17,
   "metadata": {},
   "outputs": [
    {
     "name": "stdout",
     "output_type": "stream",
     "text": [
      "[ 1  4  9 16]\n"
     ]
    }
   ],
   "source": [
    "ar1= np.array([1,2,3,4]) \n",
    "ar2= np.array([1,2,3,4]) \n",
    "\n",
    "\n",
    "arradd= np.multiply(ar1,ar2)\n",
    "print(arradd)"
   ]
  },
  {
   "cell_type": "code",
   "execution_count": 18,
   "metadata": {},
   "outputs": [
    {
     "name": "stdout",
     "output_type": "stream",
     "text": [
      "[1. 1. 1. 1.]\n"
     ]
    }
   ],
   "source": [
    "ar1= np.array([1,2,3,4]) \n",
    "ar2= np.array([1,2,3,4]) \n",
    "\n",
    "\n",
    "arradd= np.divide(ar1,ar2)\n",
    "print(arradd)"
   ]
  },
  {
   "cell_type": "code",
   "execution_count": null,
   "metadata": {},
   "outputs": [],
   "source": []
  },
  {
   "cell_type": "markdown",
   "metadata": {},
   "source": [
    "### 2d array "
   ]
  },
  {
   "cell_type": "code",
   "execution_count": 23,
   "metadata": {},
   "outputs": [
    {
     "name": "stdout",
     "output_type": "stream",
     "text": [
      "[[ 2  4  6  8]\n",
      " [10 12 14 16]]\n"
     ]
    }
   ],
   "source": [
    "ar1 = np.array([ [1,2,3,4],\n",
    "                 [5,6,7,8]])\n",
    "\n",
    "\n",
    "ar2 = np.array([ [1,2,3,4],\n",
    "                 [5,6,7,8]]) \n",
    "\n",
    "varadd = ar1+ar2 \n",
    "\n",
    "print(varadd)"
   ]
  },
  {
   "cell_type": "code",
   "execution_count": 24,
   "metadata": {},
   "outputs": [
    {
     "name": "stdout",
     "output_type": "stream",
     "text": [
      "[[ 1  4  9 16]\n",
      " [25 36 49 64]]\n"
     ]
    }
   ],
   "source": [
    "ar1 = np.array([ [1,2,3,4],\n",
    "                 [5,6,7,8]])\n",
    "\n",
    "\n",
    "ar2 = np.array([ [1,2,3,4],\n",
    "                 [5,6,7,8]]) \n",
    "\n",
    "varadd = ar1 * ar2 \n",
    "\n",
    "print(varadd)"
   ]
  },
  {
   "cell_type": "markdown",
   "metadata": {},
   "source": [
    "## arithmatic function in numpy array "
   ]
  },
  {
   "cell_type": "code",
   "execution_count": 33,
   "metadata": {},
   "outputs": [
    {
     "name": "stdout",
     "output_type": "stream",
     "text": [
      "[ 1  2  3  4  5  6  7  8  9 13]\n"
     ]
    }
   ],
   "source": [
    "ar1= np.array([1,2,3,4,5,6,7,8,9,13]) \n",
    "\n",
    "print(ar1)"
   ]
  },
  {
   "cell_type": "code",
   "execution_count": 34,
   "metadata": {},
   "outputs": [
    {
     "data": {
      "text/plain": [
       "1"
      ]
     },
     "execution_count": 34,
     "metadata": {},
     "output_type": "execute_result"
    }
   ],
   "source": [
    "np.min(ar1)"
   ]
  },
  {
   "cell_type": "code",
   "execution_count": 35,
   "metadata": {},
   "outputs": [
    {
     "data": {
      "text/plain": [
       "13"
      ]
     },
     "execution_count": 35,
     "metadata": {},
     "output_type": "execute_result"
    }
   ],
   "source": [
    "np.max(ar1)"
   ]
  },
  {
   "cell_type": "code",
   "execution_count": 36,
   "metadata": {},
   "outputs": [
    {
     "data": {
      "text/plain": [
       "9"
      ]
     },
     "execution_count": 36,
     "metadata": {},
     "output_type": "execute_result"
    }
   ],
   "source": [
    "np.argmax(ar1)   # index "
   ]
  },
  {
   "cell_type": "code",
   "execution_count": 38,
   "metadata": {},
   "outputs": [
    {
     "data": {
      "text/plain": [
       "0"
      ]
     },
     "execution_count": 38,
     "metadata": {},
     "output_type": "execute_result"
    }
   ],
   "source": [
    "np.argmin(ar1)  # index "
   ]
  },
  {
   "cell_type": "code",
   "execution_count": 51,
   "metadata": {},
   "outputs": [
    {
     "data": {
      "text/plain": [
       "array([[ 1.        ,  1.41421356,  1.73205081,  2.        ,  2.23606798,\n",
       "         2.44948974,  2.64575131,  2.82842712,  3.        ,  3.60555128],\n",
       "       [ 6.70820393,  8.18535277,  9.43398113,  5.65685425,  5.83095189,\n",
       "        23.36664289,  0.        ,  8.83176087,  4.58257569,  3.46410162]])"
      ]
     },
     "execution_count": 51,
     "metadata": {},
     "output_type": "execute_result"
    }
   ],
   "source": [
    "np.sqrt(ar1)"
   ]
  },
  {
   "cell_type": "code",
   "execution_count": 54,
   "metadata": {},
   "outputs": [
    {
     "data": {
      "text/plain": [
       "array([[ 0.84147098,  0.90929743,  0.14112001, -0.7568025 , -0.95892427,\n",
       "        -0.2794155 ,  0.6569866 ,  0.98935825,  0.41211849,  0.42016704],\n",
       "       [ 0.85090352, -0.85551998,  0.86006941,  0.55142668,  0.52908269,\n",
       "        -0.59488432,  0.        ,  0.51397846,  0.83665564, -0.53657292]])"
      ]
     },
     "execution_count": 54,
     "metadata": {},
     "output_type": "execute_result"
    }
   ],
   "source": [
    "np.sin(ar1)"
   ]
  },
  {
   "cell_type": "code",
   "execution_count": 56,
   "metadata": {},
   "outputs": [
    {
     "data": {
      "text/plain": [
       "array([[ 0.54030231, -0.41614684, -0.9899925 , -0.65364362,  0.28366219,\n",
       "         0.96017029,  0.75390225, -0.14550003, -0.91113026,  0.90744678],\n",
       "       [ 0.52532199, -0.5177698 ,  0.51017704,  0.83422336, -0.84857027,\n",
       "         0.80381133,  1.        , -0.85780309, -0.54772926,  0.84385396]])"
      ]
     },
     "execution_count": 56,
     "metadata": {},
     "output_type": "execute_result"
    }
   ],
   "source": [
    "np.cos(ar1)"
   ]
  },
  {
   "cell_type": "code",
   "execution_count": 57,
   "metadata": {},
   "outputs": [
    {
     "data": {
      "text/plain": [
       "array([[ 1.55740772, -2.18503986, -0.14254654,  1.15782128, -3.38051501,\n",
       "        -0.29100619,  0.87144798, -6.79971146, -0.45231566,  0.46302113],\n",
       "       [ 1.61977519,  1.65231726,  1.68582537,  0.66100604, -0.62349896,\n",
       "        -0.74007954,  0.        , -0.59918   , -1.52749853, -0.63585993]])"
      ]
     },
     "execution_count": 57,
     "metadata": {},
     "output_type": "execute_result"
    }
   ],
   "source": [
    "np.tan(ar1)"
   ]
  },
  {
   "cell_type": "code",
   "execution_count": 58,
   "metadata": {},
   "outputs": [
    {
     "data": {
      "text/plain": [
       "array([ 1,  3,  6, 10, 15, 21, 28, 36, 45, 58])"
      ]
     },
     "execution_count": 58,
     "metadata": {},
     "output_type": "execute_result"
    }
   ],
   "source": [
    "ar1= np.array([1,2,3,4,5,6,7,8,9,13])  # addition of evry index one by one \n",
    "\n",
    "np.cumsum(ar1)  "
   ]
  },
  {
   "cell_type": "code",
   "execution_count": 59,
   "metadata": {},
   "outputs": [
    {
     "name": "stdout",
     "output_type": "stream",
     "text": [
      "[[  1   2   3   4   5   6   7   8   9  13]\n",
      " [ 45  67  89  32  34 546   0  78  21  12]]\n"
     ]
    }
   ],
   "source": [
    "ar1= np.array( [ [1,2,3,4,5,6,7,8,9,13] , [45,67,89,32,34,546,0,78,21,12] ])  \n",
    "\n",
    "print(ar1)"
   ]
  },
  {
   "cell_type": "code",
   "execution_count": 46,
   "metadata": {},
   "outputs": [
    {
     "name": "stdout",
     "output_type": "stream",
     "text": [
      "[1 0]\n"
     ]
    }
   ],
   "source": [
    "print(np.min(ar1 , axis=1) )                    # axis = 1 (row)"
   ]
  },
  {
   "cell_type": "code",
   "execution_count": 47,
   "metadata": {},
   "outputs": [
    {
     "name": "stdout",
     "output_type": "stream",
     "text": [
      "[ 13 546]\n"
     ]
    }
   ],
   "source": [
    "print(np.max(ar1 , axis=1) ) "
   ]
  },
  {
   "cell_type": "code",
   "execution_count": 48,
   "metadata": {},
   "outputs": [
    {
     "name": "stdout",
     "output_type": "stream",
     "text": [
      "[ 45  67  89  32  34 546   7  78  21  13]\n"
     ]
    }
   ],
   "source": [
    "print(np.max(ar1 , axis=0) )                            # axis = 0 (column)"
   ]
  },
  {
   "cell_type": "code",
   "execution_count": 49,
   "metadata": {},
   "outputs": [
    {
     "name": "stdout",
     "output_type": "stream",
     "text": [
      "[ 1  2  3  4  5  6  0  8  9 12]\n"
     ]
    }
   ],
   "source": [
    "print(np.min(ar1 , axis=0) )  "
   ]
  },
  {
   "cell_type": "code",
   "execution_count": 53,
   "metadata": {},
   "outputs": [
    {
     "name": "stdout",
     "output_type": "stream",
     "text": [
      "[[ 1.          1.41421356  1.73205081  2.          2.23606798  2.44948974\n",
      "   2.64575131  2.82842712  3.          3.60555128]\n",
      " [ 6.70820393  8.18535277  9.43398113  5.65685425  5.83095189 23.36664289\n",
      "   0.          8.83176087  4.58257569  3.46410162]]\n"
     ]
    }
   ],
   "source": [
    "print(np.sqrt(ar1 ) ) "
   ]
  },
  {
   "cell_type": "code",
   "execution_count": 60,
   "metadata": {},
   "outputs": [
    {
     "name": "stdout",
     "output_type": "stream",
     "text": [
      "[  1   3   6  10  15  21  28  36  45  58 103 170 259 291 325 871 871 949\n",
      " 970 982]\n"
     ]
    }
   ],
   "source": [
    "ar1= np.cumsum( [ [1,2,3,4,5,6,7,8,9,13] , [45,67,89,32,34,546,0,78,21,12] ])  \n",
    "\n",
    "print(ar1)"
   ]
  },
  {
   "cell_type": "code",
   "execution_count": null,
   "metadata": {},
   "outputs": [],
   "source": []
  },
  {
   "cell_type": "code",
   "execution_count": null,
   "metadata": {},
   "outputs": [],
   "source": []
  }
 ],
 "metadata": {
  "kernelspec": {
   "display_name": "base",
   "language": "python",
   "name": "python3"
  },
  "language_info": {
   "codemirror_mode": {
    "name": "ipython",
    "version": 3
   },
   "file_extension": ".py",
   "mimetype": "text/x-python",
   "name": "python",
   "nbconvert_exporter": "python",
   "pygments_lexer": "ipython3",
   "version": "3.11.5"
  }
 },
 "nbformat": 4,
 "nbformat_minor": 2
}
