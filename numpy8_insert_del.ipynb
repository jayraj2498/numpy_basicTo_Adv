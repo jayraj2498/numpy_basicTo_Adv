{
 "cells": [
  {
   "cell_type": "code",
   "execution_count": 1,
   "metadata": {},
   "outputs": [],
   "source": [
    "import numpy as np"
   ]
  },
  {
   "cell_type": "markdown",
   "metadata": {},
   "source": [
    "## insert"
   ]
  },
  {
   "cell_type": "code",
   "execution_count": 2,
   "metadata": {},
   "outputs": [
    {
     "name": "stdout",
     "output_type": "stream",
     "text": [
      "[   4 1000    5    6    7    8    0    0    6    1]\n"
     ]
    }
   ],
   "source": [
    "ar1= np.array([4,5,6,7,8,0,0,6,1] ) \n",
    "\n",
    "x=np.insert(ar1 , 1 , 1000)     # insert(ar1 , index , val) \n",
    "print(x)"
   ]
  },
  {
   "cell_type": "code",
   "execution_count": 3,
   "metadata": {},
   "outputs": [
    {
     "name": "stdout",
     "output_type": "stream",
     "text": [
      "[   4    5    6    7    8 1000    0 1000    0    6    1]\n"
     ]
    }
   ],
   "source": [
    "ar1= np.array([4,5,6,7,8,0,0,6,1] ) \n",
    "\n",
    "x=np.insert(ar1 ,(5,6), 1000)     # insert(ar1 , index , val) \n",
    "print(x)"
   ]
  },
  {
   "cell_type": "code",
   "execution_count": 5,
   "metadata": {},
   "outputs": [
    {
     "name": "stdout",
     "output_type": "stream",
     "text": [
      "[[ 1  2  3]\n",
      " [ 2  3 45]\n",
      " [22 34 56]]\n"
     ]
    }
   ],
   "source": [
    "ar2= np.array([[1,2,3] ,\n",
    "               [2,3,45] ] )   \n",
    "\n",
    "\n",
    "v1=np.insert(ar2 , 2 , (22,34,56) , axis=0) \n",
    "\n",
    "\n",
    "print(v1)"
   ]
  },
  {
   "cell_type": "code",
   "execution_count": 8,
   "metadata": {},
   "outputs": [
    {
     "name": "stdout",
     "output_type": "stream",
     "text": [
      "[[ 1  2 22  3]\n",
      " [ 2  3 34 45]]\n"
     ]
    }
   ],
   "source": [
    "ar2= np.array([[1,2,3] ,\n",
    "               [2,3,45] ] )   \n",
    "\n",
    "\n",
    "v1=np.insert(ar2 , 2, (22,34) , axis=1) \n",
    "\n",
    "\n",
    "print(v1)"
   ]
  },
  {
   "cell_type": "markdown",
   "metadata": {},
   "source": [
    "## append"
   ]
  },
  {
   "cell_type": "code",
   "execution_count": 9,
   "metadata": {},
   "outputs": [
    {
     "name": "stdout",
     "output_type": "stream",
     "text": [
      "[  4   5   6   7   8   0   0   6   1 100]\n"
     ]
    }
   ],
   "source": [
    "ar1= np.array([4,5,6,7,8,0,0,6,1] ) \n",
    "\n",
    "z=np.append(ar1 , 100)\n",
    "\n",
    "print(z)"
   ]
  },
  {
   "cell_type": "code",
   "execution_count": 14,
   "metadata": {},
   "outputs": [
    {
     "name": "stdout",
     "output_type": "stream",
     "text": [
      "[[  1   2   3]\n",
      " [  2   3  45]\n",
      " [ 88  99 111]]\n"
     ]
    }
   ],
   "source": [
    "ar2= np.array([[1,2,3] ,\n",
    "               [2,3,45] ] )   \n",
    "\n",
    "\n",
    "x= np.append(ar2 ,[[88, 99,111]] ,axis=0) \n",
    "print(x)"
   ]
  },
  {
   "cell_type": "code",
   "execution_count": 19,
   "metadata": {},
   "outputs": [
    {
     "name": "stdout",
     "output_type": "stream",
     "text": [
      "[[ 1  2  3  2]\n",
      " [ 2  3 45 50]]\n"
     ]
    }
   ],
   "source": [
    "import numpy as np\n",
    "\n",
    "ar2 = np.array([[1, 2, 3], [2, 3, 45]])\n",
    "\n",
    "\n",
    "new_row = np.array([[2, 50]]).T\n",
    "\n",
    "x = np.append(ar2, new_row, axis=1)\n",
    "\n",
    "print(x)\n"
   ]
  },
  {
   "cell_type": "markdown",
   "metadata": {},
   "source": [
    "## delete"
   ]
  },
  {
   "cell_type": "code",
   "execution_count": 22,
   "metadata": {},
   "outputs": [
    {
     "name": "stdout",
     "output_type": "stream",
     "text": [
      "[4 5 6 7 8 0 0 6 1]\n",
      "[5 6 7 8 0 0 6 1]\n"
     ]
    }
   ],
   "source": [
    "ar1= np.array([4,5,6,7,8,0,0,6,1] ) \n",
    "\n",
    "print(ar1) \n",
    "\n",
    "\n",
    "d= np.delete(ar1 , 0 )   # index \n",
    "\n",
    "print(d)"
   ]
  },
  {
   "cell_type": "code",
   "execution_count": null,
   "metadata": {},
   "outputs": [],
   "source": []
  },
  {
   "cell_type": "code",
   "execution_count": null,
   "metadata": {},
   "outputs": [],
   "source": []
  },
  {
   "cell_type": "code",
   "execution_count": null,
   "metadata": {},
   "outputs": [],
   "source": []
  },
  {
   "cell_type": "code",
   "execution_count": null,
   "metadata": {},
   "outputs": [],
   "source": []
  },
  {
   "cell_type": "code",
   "execution_count": null,
   "metadata": {},
   "outputs": [],
   "source": []
  },
  {
   "cell_type": "code",
   "execution_count": null,
   "metadata": {},
   "outputs": [],
   "source": []
  },
  {
   "cell_type": "code",
   "execution_count": null,
   "metadata": {},
   "outputs": [],
   "source": []
  },
  {
   "cell_type": "code",
   "execution_count": null,
   "metadata": {},
   "outputs": [],
   "source": []
  },
  {
   "cell_type": "code",
   "execution_count": null,
   "metadata": {},
   "outputs": [],
   "source": []
  },
  {
   "cell_type": "code",
   "execution_count": null,
   "metadata": {},
   "outputs": [],
   "source": []
  },
  {
   "cell_type": "code",
   "execution_count": null,
   "metadata": {},
   "outputs": [],
   "source": []
  }
 ],
 "metadata": {
  "kernelspec": {
   "display_name": "base",
   "language": "python",
   "name": "python3"
  },
  "language_info": {
   "codemirror_mode": {
    "name": "ipython",
    "version": 3
   },
   "file_extension": ".py",
   "mimetype": "text/x-python",
   "name": "python",
   "nbconvert_exporter": "python",
   "pygments_lexer": "ipython3",
   "version": "3.11.5"
  }
 },
 "nbformat": 4,
 "nbformat_minor": 2
}
