{
 "cells": [
  {
   "cell_type": "markdown",
   "metadata": {},
   "source": [
    "### indexing & slicing"
   ]
  },
  {
   "cell_type": "code",
   "execution_count": 4,
   "metadata": {},
   "outputs": [],
   "source": [
    "import numpy as np"
   ]
  },
  {
   "cell_type": "code",
   "execution_count": 6,
   "metadata": {},
   "outputs": [
    {
     "data": {
      "text/plain": [
       "5"
      ]
     },
     "execution_count": 6,
     "metadata": {},
     "output_type": "execute_result"
    }
   ],
   "source": [
    "arr = np.array([2,3,4,5]) \n",
    "\n",
    "arr[3]"
   ]
  },
  {
   "cell_type": "code",
   "execution_count": 7,
   "metadata": {},
   "outputs": [
    {
     "data": {
      "text/plain": [
       "array([ 2,  3,  4, 10])"
      ]
     },
     "execution_count": 7,
     "metadata": {},
     "output_type": "execute_result"
    }
   ],
   "source": [
    "# change element of array on index 3\n",
    "\n",
    "arr[3]=10 \n",
    "arr"
   ]
  },
  {
   "cell_type": "code",
   "execution_count": 8,
   "metadata": {},
   "outputs": [
    {
     "data": {
      "text/plain": [
       "array([ 3,  4, 10])"
      ]
     },
     "execution_count": 8,
     "metadata": {},
     "output_type": "execute_result"
    }
   ],
   "source": [
    "arr[1:]"
   ]
  },
  {
   "cell_type": "code",
   "execution_count": 9,
   "metadata": {},
   "outputs": [
    {
     "data": {
      "text/plain": [
       "10"
      ]
     },
     "execution_count": 9,
     "metadata": {},
     "output_type": "execute_result"
    }
   ],
   "source": [
    "arr[-1]"
   ]
  },
  {
   "cell_type": "code",
   "execution_count": 10,
   "metadata": {},
   "outputs": [
    {
     "data": {
      "text/plain": [
       "array([2, 3, 4])"
      ]
     },
     "execution_count": 10,
     "metadata": {},
     "output_type": "execute_result"
    }
   ],
   "source": [
    "arr[:-1]"
   ]
  },
  {
   "cell_type": "code",
   "execution_count": 11,
   "metadata": {},
   "outputs": [
    {
     "data": {
      "text/plain": [
       "array([10,  4,  3,  2])"
      ]
     },
     "execution_count": 11,
     "metadata": {},
     "output_type": "execute_result"
    }
   ],
   "source": [
    "arr[::-1]  #  it reverse all element "
   ]
  },
  {
   "cell_type": "code",
   "execution_count": 12,
   "metadata": {},
   "outputs": [
    {
     "name": "stdout",
     "output_type": "stream",
     "text": [
      "[[1 2 3 5 6]\n",
      " [5 6 7 8 0]\n",
      " [8 9 4 5 7]]\n"
     ]
    }
   ],
   "source": [
    "lst1=[1,2,3,5,6]\n",
    "lst2=[5,6,7,8,0] \n",
    "lst3=[8,9,4,5,7] \n",
    "\n",
    "\n",
    "arr2d=np.array([lst1,lst2,lst3]) \n",
    "\n",
    "print(arr2d) "
   ]
  },
  {
   "cell_type": "code",
   "execution_count": 13,
   "metadata": {},
   "outputs": [
    {
     "data": {
      "text/plain": [
       "2"
      ]
     },
     "execution_count": 13,
     "metadata": {},
     "output_type": "execute_result"
    }
   ],
   "source": [
    "arr2d.ndim"
   ]
  },
  {
   "cell_type": "code",
   "execution_count": 14,
   "metadata": {},
   "outputs": [
    {
     "data": {
      "text/plain": [
       "array([2, 6, 9])"
      ]
     },
     "execution_count": 14,
     "metadata": {},
     "output_type": "execute_result"
    }
   ],
   "source": [
    "arr2d[:,1]    # [row , column ]   [ : , 1th column]"
   ]
  },
  {
   "cell_type": "code",
   "execution_count": 15,
   "metadata": {},
   "outputs": [
    {
     "data": {
      "text/plain": [
       "array([[6, 7],\n",
       "       [9, 4]])"
      ]
     },
     "execution_count": 15,
     "metadata": {},
     "output_type": "execute_result"
    }
   ],
   "source": [
    "arr2d[ 1:,1:3]"
   ]
  },
  {
   "cell_type": "code",
   "execution_count": 17,
   "metadata": {},
   "outputs": [
    {
     "data": {
      "text/plain": [
       "3"
      ]
     },
     "execution_count": 17,
     "metadata": {},
     "output_type": "execute_result"
    }
   ],
   "source": [
    "# 3d array  \n",
    "\n",
    "ar3=np.array([  [ [1,2,3], \n",
    "                  [4,5,6],\n",
    "                  [6,7,8]   ]]) \n",
    "\n",
    "ar3.ndim"
   ]
  },
  {
   "cell_type": "code",
   "execution_count": 19,
   "metadata": {},
   "outputs": [
    {
     "data": {
      "text/plain": [
       "array([6, 8])"
      ]
     },
     "execution_count": 19,
     "metadata": {},
     "output_type": "execute_result"
    }
   ],
   "source": [
    "ar3[0 ,1: , 2]"
   ]
  },
  {
   "cell_type": "code",
   "execution_count": null,
   "metadata": {},
   "outputs": [],
   "source": []
  },
  {
   "cell_type": "code",
   "execution_count": 1,
   "metadata": {},
   "outputs": [
    {
     "name": "stdout",
     "output_type": "stream",
     "text": [
      "Original Array: [1 2 3 4 5]\n",
      "First Element: 1\n",
      "Third Element: 3\n"
     ]
    }
   ],
   "source": [
    "import numpy as np\n",
    "\n",
    "\n",
    "arr_1d = np.array([1, 2, 3, 4, 5])\n",
    "\n",
    "\n",
    "first_element = arr_1d[0]\n",
    "third_element = arr_1d[2]\n",
    "\n",
    "print(\"Original Array:\", arr_1d)\n",
    "print(\"First Element:\", first_element)\n",
    "print(\"Third Element:\", third_element)\n"
   ]
  },
  {
   "cell_type": "code",
   "execution_count": 2,
   "metadata": {},
   "outputs": [
    {
     "name": "stdout",
     "output_type": "stream",
     "text": [
      "Original Array:\n",
      "[[1 2 3]\n",
      " [4 5 6]\n",
      " [7 8 9]]\n",
      "Element at (0, 0): 1\n",
      "Element at (1, 2): 6\n"
     ]
    }
   ],
   "source": [
    "import numpy as np\n",
    "\n",
    "\n",
    "arr_2d = np.array([[1, 2, 3],\n",
    "                   [4, 5, 6],\n",
    "                   [7, 8, 9]])\n",
    "\n",
    "element_1_1 = arr_2d[0, 0] \n",
    "element_2_3 = arr_2d[1, 2]  \n",
    "\n",
    "\n",
    "print(\"Original Array:\")\n",
    "print(arr_2d)\n",
    "print(\"Element at (0, 0):\", element_1_1)\n",
    "print(\"Element at (1, 2):\", element_2_3)\n"
   ]
  },
  {
   "cell_type": "code",
   "execution_count": 3,
   "metadata": {},
   "outputs": [
    {
     "name": "stdout",
     "output_type": "stream",
     "text": [
      "Original 3D Array:\n",
      "[[[ 1  2  3]\n",
      "  [ 4  5  6]\n",
      "  [ 7  8  9]]\n",
      "\n",
      " [[10 11 12]\n",
      "  [13 14 15]\n",
      "  [16 17 18]]\n",
      "\n",
      " [[19 20 21]\n",
      "  [22 23 24]\n",
      "  [25 26 27]]]\n",
      "Element at (0, 0, 0): 1\n",
      "Element at (1, 1, 2): 15\n"
     ]
    }
   ],
   "source": [
    "import numpy as np\n",
    "\n",
    "\n",
    "arr_3d = np.array([[ [1, 2, 3],\n",
    "                     [4, 5, 6],\n",
    "                     [7, 8, 9] ],\n",
    "                   \n",
    "                   [[10, 11, 12], \n",
    "                    [13, 14, 15],\n",
    "                    [16, 17, 18]],\n",
    "                   \n",
    "                   [[19, 20, 21],\n",
    "                    [22, 23, 24],\n",
    "                    [25, 26, 27] ] ])\n",
    "\n",
    "\n",
    "element_1_1_1 = arr_3d[0, 0, 0]  # Layer 0, Row 0, Column 0\n",
    "element_2_2_3 = arr_3d[1, 1, 2]  \n",
    "\n",
    "\n",
    "print(\"Original 3D Array:\")\n",
    "print(arr_3d)\n",
    "print(\"Element at (0, 0, 0):\", element_1_1_1)\n",
    "print(\"Element at (1, 1, 2):\", element_2_2_3)\n"
   ]
  },
  {
   "cell_type": "markdown",
   "metadata": {},
   "source": [
    "## Itreation in array "
   ]
  },
  {
   "cell_type": "code",
   "execution_count": 21,
   "metadata": {},
   "outputs": [
    {
     "name": "stdout",
     "output_type": "stream",
     "text": [
      "1\n",
      "2\n",
      "788\n",
      "8\n",
      "9\n",
      "3\n"
     ]
    }
   ],
   "source": [
    "ar1= np.array([1,2,788,8,9,3]) \n",
    "\n",
    "for i in ar1 :\n",
    "    print(i)"
   ]
  },
  {
   "cell_type": "code",
   "execution_count": 24,
   "metadata": {},
   "outputs": [
    {
     "name": "stdout",
     "output_type": "stream",
     "text": [
      "[1 2 3 4 5]\n",
      "[ 2  3 45  5  6]\n",
      "[1 2 3 4 5]\n"
     ]
    }
   ],
   "source": [
    "ar2= np.array([[1,2,3,4,5] ,\n",
    "               [2,3,45,5,6] ,\n",
    "               [1,2,3,4,5]])  \n",
    "\n",
    "for i in ar2 :\n",
    "    print(i)"
   ]
  },
  {
   "cell_type": "code",
   "execution_count": 25,
   "metadata": {},
   "outputs": [
    {
     "name": "stdout",
     "output_type": "stream",
     "text": [
      "1\n",
      "2\n",
      "3\n",
      "4\n",
      "5\n",
      "2\n",
      "3\n",
      "45\n",
      "5\n",
      "6\n",
      "1\n",
      "2\n",
      "3\n",
      "4\n",
      "5\n"
     ]
    }
   ],
   "source": [
    "for j in ar2 :\n",
    "    for k in j :\n",
    "        print(k)"
   ]
  },
  {
   "cell_type": "code",
   "execution_count": 32,
   "metadata": {},
   "outputs": [
    {
     "name": "stdout",
     "output_type": "stream",
     "text": [
      "3\n",
      "(1, 3, 5)\n"
     ]
    }
   ],
   "source": [
    "# for 3d array\n",
    "ar3 = np.array([[ [3,4,5,6,7] ,\n",
    "                  [1,2,3,4,5], \n",
    "                  [4,9,7,1,3] ]]) \n",
    "\n",
    "print(ar3.ndim)\n",
    "print(ar3.shape)"
   ]
  },
  {
   "cell_type": "code",
   "execution_count": 35,
   "metadata": {},
   "outputs": [
    {
     "name": "stdout",
     "output_type": "stream",
     "text": [
      "[[3 4 5 6 7]\n",
      " [1 2 3 4 5]\n",
      " [4 9 7 1 3]]\n"
     ]
    }
   ],
   "source": [
    "for i in ar3 :\n",
    "    print(i)"
   ]
  },
  {
   "cell_type": "code",
   "execution_count": 36,
   "metadata": {},
   "outputs": [
    {
     "name": "stdout",
     "output_type": "stream",
     "text": [
      "3\n",
      "4\n",
      "5\n",
      "6\n",
      "7\n",
      "1\n",
      "2\n",
      "3\n",
      "4\n",
      "5\n",
      "4\n",
      "9\n",
      "7\n",
      "1\n",
      "3\n"
     ]
    }
   ],
   "source": [
    "for i in ar3 :\n",
    "    for j in i :\n",
    "        for  k in j :\n",
    "            print(k)"
   ]
  },
  {
   "cell_type": "code",
   "execution_count": null,
   "metadata": {},
   "outputs": [],
   "source": [
    "# with using function "
   ]
  },
  {
   "cell_type": "code",
   "execution_count": 37,
   "metadata": {},
   "outputs": [
    {
     "name": "stdout",
     "output_type": "stream",
     "text": [
      "3\n",
      "(1, 3, 5)\n"
     ]
    }
   ],
   "source": [
    "# for 3d array\n",
    "ar3 = np.array([[ [3,4,5,6,7] ,\n",
    "                  [1,2,3,4,5], \n",
    "                  [4,9,7,1,3] ]]) \n",
    "\n",
    "print(ar3.ndim)\n",
    "print(ar3.shape)"
   ]
  },
  {
   "cell_type": "code",
   "execution_count": 38,
   "metadata": {},
   "outputs": [
    {
     "name": "stdout",
     "output_type": "stream",
     "text": [
      "3\n",
      "4\n",
      "5\n",
      "6\n",
      "7\n",
      "1\n",
      "2\n",
      "3\n",
      "4\n",
      "5\n",
      "4\n",
      "9\n",
      "7\n",
      "1\n",
      "3\n"
     ]
    }
   ],
   "source": [
    "for i in np.nditer(ar3):\n",
    "    print(i)"
   ]
  },
  {
   "cell_type": "code",
   "execution_count": 39,
   "metadata": {},
   "outputs": [
    {
     "name": "stdout",
     "output_type": "stream",
     "text": [
      "((0, 0, 0), 3)\n",
      "((0, 0, 1), 4)\n",
      "((0, 0, 2), 5)\n",
      "((0, 0, 3), 6)\n",
      "((0, 0, 4), 7)\n",
      "((0, 1, 0), 1)\n",
      "((0, 1, 1), 2)\n",
      "((0, 1, 2), 3)\n",
      "((0, 1, 3), 4)\n",
      "((0, 1, 4), 5)\n",
      "((0, 2, 0), 4)\n",
      "((0, 2, 1), 9)\n",
      "((0, 2, 2), 7)\n",
      "((0, 2, 3), 1)\n",
      "((0, 2, 4), 3)\n"
     ]
    }
   ],
   "source": [
    "# iterating with index number \n",
    "\n",
    "\n",
    "# for 3d array\n",
    "ar4 = np.array([[ [3,4,5,6,7] ,\n",
    "                  [1,2,3,4,5], \n",
    "                  [4,9,7,1,3] ]]) \n",
    "\n",
    "\n",
    "\n",
    "for i in np.ndenumerate(ar4):\n",
    "    print(i)"
   ]
  },
  {
   "cell_type": "code",
   "execution_count": 41,
   "metadata": {},
   "outputs": [
    {
     "name": "stdout",
     "output_type": "stream",
     "text": [
      "((0, 0), 1)\n",
      "((0, 1), 2)\n",
      "((0, 2), 3)\n",
      "((0, 3), 4)\n",
      "((0, 4), 5)\n",
      "((1, 0), 2)\n",
      "((1, 1), 3)\n",
      "((1, 2), 45)\n",
      "((1, 3), 5)\n",
      "((1, 4), 6)\n",
      "((2, 0), 1)\n",
      "((2, 1), 2)\n",
      "((2, 2), 3)\n",
      "((2, 3), 4)\n",
      "((2, 4), 5)\n"
     ]
    }
   ],
   "source": [
    "ar2= np.array([[1,2,3,4,5] ,\n",
    "               [2,3,45,5,6] ,\n",
    "               [1,2,3,4,5]] )  \n",
    "\n",
    "for i in np.ndenumerate(ar2) :\n",
    "    print(i)\n",
    "  "
   ]
  },
  {
   "cell_type": "code",
   "execution_count": null,
   "metadata": {},
   "outputs": [],
   "source": []
  },
  {
   "cell_type": "markdown",
   "metadata": {},
   "source": [
    "## copy  & view"
   ]
  },
  {
   "cell_type": "code",
   "execution_count": 42,
   "metadata": {},
   "outputs": [
    {
     "name": "stdout",
     "output_type": "stream",
     "text": [
      "[[ 1  2  3  4  5]\n",
      " [ 2  3 45  5  6]\n",
      " [ 1  2  3  4  5]]\n"
     ]
    }
   ],
   "source": [
    "# copy\n",
    "\n",
    "ar2= np.array([[1,2,3,4,5] ,\n",
    "               [2,3,45,5,6] ,\n",
    "               [1,2,3,4,5]] )   \n",
    "\n",
    "\n",
    "co= np.copy(ar2) \n",
    "\n",
    "print(co)\n"
   ]
  },
  {
   "cell_type": "code",
   "execution_count": 44,
   "metadata": {},
   "outputs": [
    {
     "name": "stdout",
     "output_type": "stream",
     "text": [
      "[[ 1  2  3  4  5]\n",
      " [ 2  3 45  5  6]\n",
      " [ 1  2  3  4  5]]\n"
     ]
    }
   ],
   "source": [
    "# view \n",
    "\n",
    "ar2= np.array([[1,2,3,4,5] ,\n",
    "               [2,3,45,5,6] ,\n",
    "               [1,2,3,4,5]] )    \n",
    "\n",
    "\n",
    "vi = ar2.view()\n",
    "print(vi)\n"
   ]
  },
  {
   "cell_type": "code",
   "execution_count": null,
   "metadata": {},
   "outputs": [],
   "source": [
    "# diff copy vs view \n",
    "\n",
    "# copy have it own data \n",
    "\n",
    "# view dont have it own data "
   ]
  },
  {
   "cell_type": "code",
   "execution_count": null,
   "metadata": {},
   "outputs": [],
   "source": [
    "# if you have project you want to make copy of but you want to make changes in that copy only use np.copy \n",
    "\n",
    "# if you have project you want to make copy of but you want to make changes in that original copy and duplicate  also  use view  "
   ]
  },
  {
   "cell_type": "code",
   "execution_count": null,
   "metadata": {},
   "outputs": [],
   "source": []
  },
  {
   "cell_type": "code",
   "execution_count": null,
   "metadata": {},
   "outputs": [],
   "source": []
  },
  {
   "cell_type": "code",
   "execution_count": null,
   "metadata": {},
   "outputs": [],
   "source": []
  }
 ],
 "metadata": {
  "kernelspec": {
   "display_name": "base",
   "language": "python",
   "name": "python3"
  },
  "language_info": {
   "codemirror_mode": {
    "name": "ipython",
    "version": 3
   },
   "file_extension": ".py",
   "mimetype": "text/x-python",
   "name": "python",
   "nbconvert_exporter": "python",
   "pygments_lexer": "ipython3",
   "version": "3.11.5"
  }
 },
 "nbformat": 4,
 "nbformat_minor": 2
}
