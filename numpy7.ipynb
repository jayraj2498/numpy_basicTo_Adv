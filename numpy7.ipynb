{
 "cells": [
  {
   "cell_type": "markdown",
   "metadata": {},
   "source": [
    "## shuffle\n"
   ]
  },
  {
   "cell_type": "code",
   "execution_count": 1,
   "metadata": {},
   "outputs": [],
   "source": [
    "import numpy as np"
   ]
  },
  {
   "cell_type": "code",
   "execution_count": null,
   "metadata": {},
   "outputs": [],
   "source": [
    "# if you want to shuffle your data"
   ]
  },
  {
   "cell_type": "code",
   "execution_count": 3,
   "metadata": {},
   "outputs": [
    {
     "name": "stdout",
     "output_type": "stream",
     "text": [
      "[0 6 4 5 4 2 3 6 6 4 8 0 1 7]\n"
     ]
    }
   ],
   "source": [
    "ar5= np.array([4,5,6,7,8,0,0,6,1,2,3,4,4,6] )  \n",
    "np.random.shuffle(ar5) \n",
    "print(ar5)"
   ]
  },
  {
   "cell_type": "code",
   "execution_count": null,
   "metadata": {},
   "outputs": [],
   "source": []
  },
  {
   "cell_type": "markdown",
   "metadata": {},
   "source": [
    "## unique"
   ]
  },
  {
   "cell_type": "code",
   "execution_count": 4,
   "metadata": {},
   "outputs": [],
   "source": [
    "# unique data "
   ]
  },
  {
   "cell_type": "code",
   "execution_count": 5,
   "metadata": {},
   "outputs": [
    {
     "name": "stdout",
     "output_type": "stream",
     "text": [
      "[0 1 2 3 4 5 6 7 8]\n"
     ]
    }
   ],
   "source": [
    "ar1= np.array([4,5,6,7,8,0,0,6,1,2,3,4,4,6] )  \n",
    "\n",
    "x = np.unique(ar1) \n",
    "print(x)"
   ]
  },
  {
   "cell_type": "code",
   "execution_count": 6,
   "metadata": {},
   "outputs": [
    {
     "name": "stdout",
     "output_type": "stream",
     "text": [
      "(array([0, 1, 2, 3, 4, 5, 6, 7, 8]), array([ 5,  8,  9, 10,  0,  1,  2,  3,  4], dtype=int64))\n"
     ]
    }
   ],
   "source": [
    "# check unique no data index \n",
    "\n",
    "ar1= np.array([4,5,6,7,8,0,0,6,1,2,3,4,4,6] )  \n",
    "\n",
    "x = np.unique(ar1 ,return_index=True) \n",
    "print(x)"
   ]
  },
  {
   "cell_type": "code",
   "execution_count": 8,
   "metadata": {},
   "outputs": [
    {
     "name": "stdout",
     "output_type": "stream",
     "text": [
      "(array([0, 1, 4, 5, 6, 7, 8]), array([5, 8, 0, 1, 2, 3, 4], dtype=int64), array([2, 1, 1, 1, 2, 1, 1], dtype=int64))\n"
     ]
    }
   ],
   "source": [
    "# you will get it counting  \n",
    "\n",
    "\n",
    "ar1= np.array([4,5,6,7,8,0,0,6,1] )  \n",
    "\n",
    "x = np.unique(ar1 ,return_index=True , return_counts=True) \n",
    "print(x)"
   ]
  },
  {
   "cell_type": "code",
   "execution_count": null,
   "metadata": {},
   "outputs": [],
   "source": []
  },
  {
   "cell_type": "markdown",
   "metadata": {},
   "source": [
    "## resize "
   ]
  },
  {
   "cell_type": "code",
   "execution_count": 22,
   "metadata": {},
   "outputs": [],
   "source": [
    "# convert 1d to 2d "
   ]
  },
  {
   "cell_type": "code",
   "execution_count": 10,
   "metadata": {},
   "outputs": [
    {
     "name": "stdout",
     "output_type": "stream",
     "text": [
      "[[4 5]\n",
      " [6 7]\n",
      " [8 0]]\n"
     ]
    }
   ],
   "source": [
    "ar1= np.array([4,5,6,7,8,0,0,6,1] )  \n",
    "\n",
    "x1=np.resize(ar1 ,(3,2))      # it will resize in 3 R and 2 col\n",
    "print(x1)"
   ]
  },
  {
   "cell_type": "code",
   "execution_count": 17,
   "metadata": {},
   "outputs": [
    {
     "name": "stdout",
     "output_type": "stream",
     "text": [
      "[[4 5 6 7 8]\n",
      " [0 0 6 1 4]\n",
      " [5 6 7 8 6]\n",
      " [7 3 2 1 1]\n",
      " [1 4 5 6 7]]\n"
     ]
    }
   ],
   "source": [
    "ar1= np.array([4,5,6,7,8,0,0,6,1,4,5,6,7,8,6,7,3,2,1,1,1,] )  \n",
    "\n",
    "x1=np.resize(ar1 ,(5,5))      # it will resize in 3 R and 2 col\n",
    "print(x1)"
   ]
  },
  {
   "cell_type": "markdown",
   "metadata": {},
   "source": [
    "## flatten"
   ]
  },
  {
   "cell_type": "code",
   "execution_count": null,
   "metadata": {},
   "outputs": [],
   "source": [
    "# convert  2d in 1d "
   ]
  },
  {
   "cell_type": "code",
   "execution_count": 20,
   "metadata": {},
   "outputs": [
    {
     "name": "stdout",
     "output_type": "stream",
     "text": [
      "[4 5 6 7 8 0 0 6 1]\n"
     ]
    }
   ],
   "source": [
    "ar1= np.array([ [4,5,6,7,8,0,0,6,1] ] )   \n",
    "\n",
    "x=ar1.flatten()\n",
    "print(x)"
   ]
  },
  {
   "cell_type": "markdown",
   "metadata": {},
   "source": [
    "## ravel"
   ]
  },
  {
   "cell_type": "code",
   "execution_count": 21,
   "metadata": {},
   "outputs": [
    {
     "name": "stdout",
     "output_type": "stream",
     "text": [
      "[4 5 6 7 8 0 0 6 1]\n"
     ]
    }
   ],
   "source": [
    "ar1= np.array([ [4,5,6,7,8,0,0,6,1] ] )   \n",
    "\n",
    "x=ar1.ravel()\n",
    "print(x)"
   ]
  },
  {
   "cell_type": "code",
   "execution_count": null,
   "metadata": {},
   "outputs": [],
   "source": []
  },
  {
   "cell_type": "code",
   "execution_count": null,
   "metadata": {},
   "outputs": [],
   "source": []
  },
  {
   "cell_type": "code",
   "execution_count": null,
   "metadata": {},
   "outputs": [],
   "source": []
  },
  {
   "cell_type": "code",
   "execution_count": null,
   "metadata": {},
   "outputs": [],
   "source": []
  },
  {
   "cell_type": "code",
   "execution_count": null,
   "metadata": {},
   "outputs": [],
   "source": []
  }
 ],
 "metadata": {
  "kernelspec": {
   "display_name": "base",
   "language": "python",
   "name": "python3"
  },
  "language_info": {
   "codemirror_mode": {
    "name": "ipython",
    "version": 3
   },
   "file_extension": ".py",
   "mimetype": "text/x-python",
   "name": "python",
   "nbconvert_exporter": "python",
   "pygments_lexer": "ipython3",
   "version": "3.11.5"
  }
 },
 "nbformat": 4,
 "nbformat_minor": 2
}
