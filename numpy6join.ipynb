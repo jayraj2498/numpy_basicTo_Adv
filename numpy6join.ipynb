{
 "cells": [
  {
   "cell_type": "markdown",
   "metadata": {},
   "source": [
    "# join : puttin content two or more array in single array "
   ]
  },
  {
   "cell_type": "code",
   "execution_count": 2,
   "metadata": {},
   "outputs": [],
   "source": [
    "import numpy as np"
   ]
  },
  {
   "cell_type": "code",
   "execution_count": 4,
   "metadata": {},
   "outputs": [
    {
     "name": "stdout",
     "output_type": "stream",
     "text": [
      "[ 1  2  3  4  5  6  7  8  9 10 11 12  4  5  6  7  8  9  0  1  2  3  4  4\n",
      "  6]\n"
     ]
    }
   ],
   "source": [
    "ar1= np.array([1,2,3,4,5,6,7,8,9,10,11,12] )  \n",
    "ar2= np.array([4,5,6,7,8,9,0,1,2,3,4,4,6] ) \n",
    "\n",
    "arr=np.concatenate((ar1,ar2)) \n",
    "\n",
    "print(arr)"
   ]
  },
  {
   "cell_type": "code",
   "execution_count": null,
   "metadata": {},
   "outputs": [],
   "source": [
    "# for 2d "
   ]
  },
  {
   "cell_type": "code",
   "execution_count": 5,
   "metadata": {},
   "outputs": [
    {
     "name": "stdout",
     "output_type": "stream",
     "text": [
      "[[ 1  2  3  4  5]\n",
      " [ 2  3 45  5  6]\n",
      " [ 1  2  3  4  5]\n",
      " [ 1  2  3  4  5]\n",
      " [ 2  3 45  5  6]\n",
      " [ 1  2  3  4  5]]\n"
     ]
    }
   ],
   "source": [
    "ar2= np.array([[1,2,3,4,5] ,\n",
    "               [2,3,45,5,6] ,\n",
    "               [1,2,3,4,5]] )   \n",
    "\n",
    "\n",
    "ar3= np.array([[1,2,3,4,5] ,\n",
    "               [2,3,45,5,6] ,\n",
    "               [1,2,3,4,5]] ) \n",
    "\n",
    "add=np.concatenate((ar2,ar3)) \n",
    "\n",
    "print(add)"
   ]
  },
  {
   "cell_type": "code",
   "execution_count": 8,
   "metadata": {},
   "outputs": [
    {
     "name": "stdout",
     "output_type": "stream",
     "text": [
      "[[ 1  2  3  4  5  1  2  3  4  5]\n",
      " [ 2  3 45  5  6  2  3 45  5  6]\n",
      " [ 1  2  3  4  5  1  2  3  4  5]]\n"
     ]
    }
   ],
   "source": [
    "# we are merging with it row axis \n",
    "\n",
    "\n",
    "ar2= np.array([[1,2,3,4,5] ,\n",
    "               [2,3,45,5,6] ,\n",
    "               [1,2,3,4,5]] )   \n",
    "\n",
    "\n",
    "ar3= np.array([[1,2,3,4,5] ,\n",
    "               [2,3,45,5,6] ,\n",
    "               [1,2,3,4,5]] ) \n",
    "\n",
    "add_new=np.concatenate((ar2,ar3) , axis=1)  \n",
    "\n",
    "print(add_new)\n"
   ]
  },
  {
   "cell_type": "code",
   "execution_count": 9,
   "metadata": {},
   "outputs": [
    {
     "name": "stdout",
     "output_type": "stream",
     "text": [
      "[[ 1  2  3  4  5]\n",
      " [ 2  3 45  5  6]\n",
      " [ 1  2  3  4  5]\n",
      " [ 1  2  3  4  5]\n",
      " [ 2  3 45  5  6]\n",
      " [ 1  2  3  4  5]]\n"
     ]
    }
   ],
   "source": [
    "# we are merging with it col axis \n",
    "\n",
    "\n",
    "ar2= np.array([[1,2,3,4,5] ,\n",
    "               [2,3,45,5,6] ,\n",
    "               [1,2,3,4,5]] )   \n",
    "\n",
    "\n",
    "ar3= np.array([[1,2,3,4,5] ,\n",
    "               [2,3,45,5,6] ,\n",
    "               [1,2,3,4,5]] ) \n",
    "\n",
    "add_new=np.concatenate((ar2,ar3) , axis=0)  \n",
    "\n",
    "print(add_new)"
   ]
  },
  {
   "cell_type": "code",
   "execution_count": null,
   "metadata": {},
   "outputs": [],
   "source": [
    "# by using stack function "
   ]
  },
  {
   "cell_type": "code",
   "execution_count": 13,
   "metadata": {},
   "outputs": [
    {
     "name": "stdout",
     "output_type": "stream",
     "text": [
      "[[[ 1  2  3  4  5]\n",
      "  [ 2  3 45  5  6]]\n",
      "\n",
      " [[ 1  2  3  4  5]\n",
      "  [ 2  3 45  5  6]]]\n"
     ]
    }
   ],
   "source": [
    "ar2= np.array([[1,2,3,4,5] ,\n",
    "               [2,3,45,5,6] \n",
    "               ] )   \n",
    "\n",
    "\n",
    "ar3= np.array([[1,2,3,4,5] ,\n",
    "               [2,3,45,5,6] ] ) \n",
    "\n",
    "a_new=np.stack((ar2,ar3) , axis=0)  \n",
    "\n",
    "print(a_new)"
   ]
  },
  {
   "cell_type": "code",
   "execution_count": 14,
   "metadata": {},
   "outputs": [
    {
     "name": "stdout",
     "output_type": "stream",
     "text": [
      "[[[1 2]\n",
      "  [1 2]]\n",
      "\n",
      " [[2 3]\n",
      "  [2 3]]]\n"
     ]
    }
   ],
   "source": [
    "ar2= np.array([[1,2] ,\n",
    "               [2,3] \n",
    "               ] )   \n",
    "\n",
    "\n",
    "ar3= np.array([[1,2] ,\n",
    "               [2,3] ] ) \n",
    "\n",
    "a_new=np.stack((ar2,ar3) , axis=1)  \n",
    "\n",
    "print(a_new)"
   ]
  },
  {
   "cell_type": "code",
   "execution_count": 16,
   "metadata": {},
   "outputs": [
    {
     "name": "stdout",
     "output_type": "stream",
     "text": [
      "[[1 2 3 4 5 6]\n",
      " [4 5 6 7 8 9]]\n"
     ]
    }
   ],
   "source": [
    "ar1= np.array([1,2,3,4,5,6] )  \n",
    "ar2= np.array([4,5,6,7,8,9] ) \n",
    "\n",
    "arr=np.stack((ar1,ar2) ,axis=0) \n",
    "\n",
    "print(arr)"
   ]
  },
  {
   "cell_type": "markdown",
   "metadata": {},
   "source": [
    "## split array"
   ]
  },
  {
   "cell_type": "code",
   "execution_count": 17,
   "metadata": {},
   "outputs": [
    {
     "name": "stdout",
     "output_type": "stream",
     "text": [
      "[array([1, 2, 3]), array([4, 5, 6]), array([7, 8, 9])]\n"
     ]
    }
   ],
   "source": [
    "ar1= np.array([1,2,3,4,5,6,7,8,9] ) \n",
    "\n",
    "n_ar = np.array_split(ar1 , 3) \n",
    "\n",
    "print(n_ar)"
   ]
  },
  {
   "cell_type": "code",
   "execution_count": 19,
   "metadata": {},
   "outputs": [
    {
     "name": "stdout",
     "output_type": "stream",
     "text": [
      "[array([[1, 2],\n",
      "       [3, 4]]), array([[5, 6],\n",
      "       [7, 8]])]\n"
     ]
    }
   ],
   "source": [
    "ar1= np.array( [ [1,2],[3,4] ,[5,6] ,[7,8] ] ) \n",
    "\n",
    "n_ar = np.array_split(ar1 , 2) \n",
    "\n",
    "print(n_ar)"
   ]
  },
  {
   "cell_type": "code",
   "execution_count": null,
   "metadata": {},
   "outputs": [],
   "source": []
  },
  {
   "cell_type": "markdown",
   "metadata": {},
   "source": [
    "## search array "
   ]
  },
  {
   "cell_type": "code",
   "execution_count": 20,
   "metadata": {},
   "outputs": [
    {
     "name": "stdout",
     "output_type": "stream",
     "text": [
      "(array([6], dtype=int64),)\n"
     ]
    }
   ],
   "source": [
    "ar2= np.array([4,5,6,7,8,9,0,1,2,3,4,4,6] )   \n",
    "\n",
    "x=np.where(ar2==0) \n",
    "print(x)\n",
    "\n"
   ]
  },
  {
   "cell_type": "code",
   "execution_count": 21,
   "metadata": {},
   "outputs": [
    {
     "name": "stdout",
     "output_type": "stream",
     "text": [
      "(array([ 0, 10, 11], dtype=int64),)\n"
     ]
    }
   ],
   "source": [
    "ar2= np.array([4,5,6,7,8,9,0,1,2,3,4,4,6] )   \n",
    "\n",
    "x=np.where(ar2==4) \n",
    "print(x)\n"
   ]
  },
  {
   "cell_type": "code",
   "execution_count": 28,
   "metadata": {},
   "outputs": [
    {
     "name": "stdout",
     "output_type": "stream",
     "text": [
      "(array([5, 6], dtype=int64),)\n"
     ]
    }
   ],
   "source": [
    "ar2= np.array([4,5,6,7,8,0,0,6,1,2,3,4,4,6] )   \n",
    "\n",
    "xn=np.where( (ar2 / 6== 0)) \n",
    "print(xn)\n"
   ]
  },
  {
   "cell_type": "code",
   "execution_count": 29,
   "metadata": {},
   "outputs": [
    {
     "name": "stdout",
     "output_type": "stream",
     "text": [
      "(array([ 0,  2,  4,  5,  6,  7,  9, 11, 12, 13], dtype=int64),)\n"
     ]
    }
   ],
   "source": [
    "ar2= np.array([4,5,6,7,8,0,0,6,1,2,3,4,4,6] )   \n",
    "\n",
    "xn=np.where( (ar2 % 2== 0)) \n",
    "print(xn)\n"
   ]
  },
  {
   "cell_type": "code",
   "execution_count": 30,
   "metadata": {},
   "outputs": [
    {
     "name": "stdout",
     "output_type": "stream",
     "text": [
      "(array([ 1,  3,  8, 10], dtype=int64),)\n"
     ]
    }
   ],
   "source": [
    "ar2= np.array([4,5,6,7,8,0,0,6,1,2,3,4,4,6] )   \n",
    "\n",
    "xn=np.where( (ar2 % 2 != 0)) \n",
    "print(xn)\n"
   ]
  },
  {
   "cell_type": "code",
   "execution_count": null,
   "metadata": {},
   "outputs": [],
   "source": []
  },
  {
   "cell_type": "markdown",
   "metadata": {},
   "source": [
    "## search sorted array "
   ]
  },
  {
   "cell_type": "code",
   "execution_count": null,
   "metadata": {},
   "outputs": [],
   "source": [
    "# it will tell your nuber on position it will get set "
   ]
  },
  {
   "cell_type": "code",
   "execution_count": 31,
   "metadata": {},
   "outputs": [
    {
     "name": "stdout",
     "output_type": "stream",
     "text": [
      "4\n"
     ]
    }
   ],
   "source": [
    "ar2= np.array([1,2,3,4,6,7,8,] )   \n",
    "\n",
    "x1= np.searchsorted(ar2,5)\n",
    "\n",
    "print(x1)    # it is tellin thta 5 will set at index n 4"
   ]
  },
  {
   "cell_type": "code",
   "execution_count": null,
   "metadata": {},
   "outputs": [],
   "source": []
  },
  {
   "cell_type": "code",
   "execution_count": null,
   "metadata": {},
   "outputs": [],
   "source": []
  },
  {
   "cell_type": "code",
   "execution_count": null,
   "metadata": {},
   "outputs": [],
   "source": []
  },
  {
   "cell_type": "code",
   "execution_count": null,
   "metadata": {},
   "outputs": [],
   "source": []
  },
  {
   "cell_type": "code",
   "execution_count": null,
   "metadata": {},
   "outputs": [],
   "source": []
  },
  {
   "cell_type": "code",
   "execution_count": null,
   "metadata": {},
   "outputs": [],
   "source": []
  },
  {
   "cell_type": "code",
   "execution_count": null,
   "metadata": {},
   "outputs": [],
   "source": []
  },
  {
   "cell_type": "code",
   "execution_count": null,
   "metadata": {},
   "outputs": [],
   "source": []
  },
  {
   "cell_type": "code",
   "execution_count": null,
   "metadata": {},
   "outputs": [],
   "source": []
  },
  {
   "cell_type": "code",
   "execution_count": null,
   "metadata": {},
   "outputs": [],
   "source": []
  }
 ],
 "metadata": {
  "kernelspec": {
   "display_name": "base",
   "language": "python",
   "name": "python3"
  },
  "language_info": {
   "codemirror_mode": {
    "name": "ipython",
    "version": 3
   },
   "file_extension": ".py",
   "mimetype": "text/x-python",
   "name": "python",
   "nbconvert_exporter": "python",
   "pygments_lexer": "ipython3",
   "version": "3.11.5"
  }
 },
 "nbformat": 4,
 "nbformat_minor": 2
}
