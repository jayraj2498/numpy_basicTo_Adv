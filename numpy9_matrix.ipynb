{
 "cells": [
  {
   "cell_type": "code",
   "execution_count": 1,
   "metadata": {},
   "outputs": [],
   "source": [
    "import numpy as np "
   ]
  },
  {
   "cell_type": "markdown",
   "metadata": {},
   "source": [
    "## matrix"
   ]
  },
  {
   "cell_type": "code",
   "execution_count": 3,
   "metadata": {},
   "outputs": [
    {
     "name": "stdout",
     "output_type": "stream",
     "text": [
      "[[ 1  2  3]\n",
      " [ 2  3 45]]\n",
      "<class 'numpy.ndarray'>\n"
     ]
    }
   ],
   "source": [
    "ar2 = np.array([[1, 2, 3], [2, 3, 45]])\n",
    "\n",
    "print(ar2)\n",
    "print(type(ar2))"
   ]
  },
  {
   "cell_type": "code",
   "execution_count": 4,
   "metadata": {},
   "outputs": [
    {
     "name": "stdout",
     "output_type": "stream",
     "text": [
      "[[ 1  2  3]\n",
      " [ 2  3 45]]\n",
      "<class 'numpy.matrix'>\n"
     ]
    }
   ],
   "source": [
    "ar2 = np.matrix([[1, 2, 3], [2, 3, 45]]) \n",
    "\n",
    "print(ar2)\n",
    "print(type(ar2))"
   ]
  },
  {
   "cell_type": "code",
   "execution_count": null,
   "metadata": {},
   "outputs": [],
   "source": [
    "# additon and substraction is same in matrix but problem is with mul"
   ]
  },
  {
   "cell_type": "code",
   "execution_count": 5,
   "metadata": {},
   "outputs": [
    {
     "name": "stdout",
     "output_type": "stream",
     "text": [
      "[[ 2  4  6]\n",
      " [ 4  6 90]]\n",
      "<class 'numpy.matrix'>\n"
     ]
    }
   ],
   "source": [
    "ar1 = np.matrix([[1, 2, 3], [2, 3, 45]]) \n",
    "ar2 = np.matrix([[1, 2, 3], [2, 3, 45]]) \n",
    "\n",
    "\n",
    "print(ar1+ar2)\n",
    "print(type(ar2))"
   ]
  },
  {
   "cell_type": "code",
   "execution_count": 6,
   "metadata": {},
   "outputs": [
    {
     "name": "stdout",
     "output_type": "stream",
     "text": [
      "[[0 0 0]\n",
      " [0 0 0]]\n",
      "<class 'numpy.matrix'>\n"
     ]
    }
   ],
   "source": [
    "ar1 = np.matrix([[1, 2, 3], [2, 3, 45]]) \n",
    "ar2 = np.matrix([[1, 2, 3], [2, 3, 45]]) \n",
    "\n",
    "\n",
    "print(ar1-ar2)\n",
    "print(type(ar2))"
   ]
  },
  {
   "cell_type": "code",
   "execution_count": null,
   "metadata": {},
   "outputs": [],
   "source": [
    "# multipiaciton "
   ]
  },
  {
   "cell_type": "code",
   "execution_count": 9,
   "metadata": {},
   "outputs": [
    {
     "name": "stdout",
     "output_type": "stream",
     "text": [
      "[[ 9  8]\n",
      " [16 17]]\n",
      "<class 'numpy.matrix'>\n"
     ]
    }
   ],
   "source": [
    "ar1 = np.matrix([[1, 2], [4, 3]]) \n",
    "ar2 = np.matrix([[1, 2 ], [4, 3]]) \n",
    "\n",
    "\n",
    "print(ar1*ar2)\n",
    "print(type(ar2))"
   ]
  },
  {
   "cell_type": "code",
   "execution_count": 10,
   "metadata": {},
   "outputs": [
    {
     "name": "stdout",
     "output_type": "stream",
     "text": [
      "[[ 9  8]\n",
      " [16 17]]\n"
     ]
    }
   ],
   "source": [
    "ar1 = np.matrix([[1, 2], [4, 3]]) \n",
    "ar2 = np.matrix([[1, 2 ], [4, 3]]) \n",
    "\n",
    "\n",
    "print(ar1.dot(ar2))"
   ]
  },
  {
   "cell_type": "code",
   "execution_count": 13,
   "metadata": {},
   "outputs": [
    {
     "name": "stdout",
     "output_type": "stream",
     "text": [
      "[[  14  143]\n",
      " [ 143 2038]]\n"
     ]
    }
   ],
   "source": [
    "import numpy as np\n",
    "\n",
    "ar3 = np.matrix([[1, 2, 3], [2, 3, 45]])\n",
    "ar4 = np.matrix([[1, 2, 3], [2, 3, 45]])\n",
    "\n",
    "# Matrix multiplication\n",
    "result = ar3.dot(ar4.T)  # Transpose ar4 to match the dimensions\n",
    "\n",
    "print(result)\n"
   ]
  },
  {
   "cell_type": "code",
   "execution_count": null,
   "metadata": {},
   "outputs": [],
   "source": []
  },
  {
   "cell_type": "code",
   "execution_count": null,
   "metadata": {},
   "outputs": [],
   "source": []
  },
  {
   "cell_type": "code",
   "execution_count": null,
   "metadata": {},
   "outputs": [],
   "source": []
  }
 ],
 "metadata": {
  "kernelspec": {
   "display_name": "base",
   "language": "python",
   "name": "python3"
  },
  "language_info": {
   "codemirror_mode": {
    "name": "ipython",
    "version": 3
   },
   "file_extension": ".py",
   "mimetype": "text/x-python",
   "name": "python",
   "nbconvert_exporter": "python",
   "pygments_lexer": "ipython3",
   "version": "3.11.5"
  }
 },
 "nbformat": 4,
 "nbformat_minor": 2
}
